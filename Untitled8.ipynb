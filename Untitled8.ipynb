{
  "nbformat": 4,
  "nbformat_minor": 0,
  "metadata": {
    "colab": {
      "provenance": [],
      "authorship_tag": "ABX9TyOICAmpXdGtOM6GzRXt1G3V",
      "include_colab_link": true
    },
    "kernelspec": {
      "name": "python3",
      "display_name": "Python 3"
    },
    "language_info": {
      "name": "python"
    }
  },
  "cells": [
    {
      "cell_type": "markdown",
      "metadata": {
        "id": "view-in-github",
        "colab_type": "text"
      },
      "source": [
        "<a href=\"https://colab.research.google.com/github/JULIOOLASCUAGA/Taller_4_Condicionales_000503419/blob/main/Untitled8.ipynb\" target=\"_parent\"><img src=\"https://colab.research.google.com/assets/colab-badge.svg\" alt=\"Open In Colab\"/></a>"
      ]
    },
    {
      "cell_type": "markdown",
      "source": [
        "#Taller 4: Estructura Selec/va Doble (if - else)\n",
        "##Julio Cesar Olascuaga Bruno\n",
        "##ID: 000503419\n",
        "##Email: julio.olascuaga@upb.edu.co"
      ],
      "metadata": {
        "id": "ybI_az7gmdwI"
      }
    },
    {
      "cell_type": "markdown",
      "source": [
        "## Ejercicio 1"
      ],
      "metadata": {
        "id": "kufJ94tPghKH"
      }
    },
    {
      "cell_type": "code",
      "execution_count": 12,
      "metadata": {
        "colab": {
          "base_uri": "https://localhost:8080/"
        },
        "id": "c6k2IVaygCGi",
        "outputId": "6126124f-8ead-42d8-a5e2-845b5e0fe861"
      },
      "outputs": [
        {
          "output_type": "stream",
          "name": "stdout",
          "text": [
            "ingrese la calificacion: 4.3\n",
            "aprobó la asignatura \n"
          ]
        }
      ],
      "source": [
        "calificacion = float(input(\"ingrese la calificacion: \"))\n",
        "\n",
        "if calificacion >= 3.0:\n",
        "  print(\"aprobó la asignatura \")\n",
        "else:\n",
        "  print(\"reprobó la asignatura \")"
      ]
    },
    {
      "cell_type": "markdown",
      "source": [
        "## Ejercicio 2"
      ],
      "metadata": {
        "id": "idF75xrkgoOe"
      }
    },
    {
      "cell_type": "code",
      "source": [
        "n = float(input(\"ingrese el numero: \"))\n",
        "\n",
        "if n > 0:\n",
        "  print(\"positivo \")\n",
        "if n == 0:\n",
        "  print(\"cero \")\n",
        "if n < 0:\n",
        "  print(\"negativo \")\n"
      ],
      "metadata": {
        "colab": {
          "base_uri": "https://localhost:8080/"
        },
        "id": "75OhVFMtgq6a",
        "outputId": "5a45a15e-0bbc-4991-fa8f-aa99491bdfd5"
      },
      "execution_count": 11,
      "outputs": [
        {
          "output_type": "stream",
          "name": "stdout",
          "text": [
            "ingrese el numero: 8\n",
            "positivo \n"
          ]
        }
      ]
    },
    {
      "cell_type": "markdown",
      "source": [
        "## Ejercicio 3"
      ],
      "metadata": {
        "id": "g6NrzD3dg9Iu"
      }
    },
    {
      "cell_type": "code",
      "source": [
        "contra = input(\"ingrese la contraseña: \")\n",
        "\n",
        "if contra == \"python123\":\n",
        "   print(\"contraseña correcta \")\n",
        "else:\n",
        "  print(\"contraseña incorrecta \")"
      ],
      "metadata": {
        "colab": {
          "base_uri": "https://localhost:8080/"
        },
        "id": "CTqREVT-hA_2",
        "outputId": "70dbea38-3de4-4795-859b-2004ae7d7b16"
      },
      "execution_count": 10,
      "outputs": [
        {
          "output_type": "stream",
          "name": "stdout",
          "text": [
            "ingrese la contraseña: python123\n",
            "contraseña correcta \n"
          ]
        }
      ]
    },
    {
      "cell_type": "markdown",
      "source": [
        "## Ejercicio 4"
      ],
      "metadata": {
        "id": "V06k0GTChMo6"
      }
    },
    {
      "cell_type": "code",
      "source": [
        "k = float(input(\"ingrese el numero: \"))\n",
        "\n",
        "if  k % 2 == 0:\n",
        "  print(\"es par \")\n",
        "else:\n",
        "  print(\"no es par \")"
      ],
      "metadata": {
        "colab": {
          "base_uri": "https://localhost:8080/"
        },
        "id": "4tF2RePwhT12",
        "outputId": "972a5f7f-b707-4275-89a7-3f663524c507"
      },
      "execution_count": 9,
      "outputs": [
        {
          "output_type": "stream",
          "name": "stdout",
          "text": [
            "ingrese el numero: 15\n",
            "no es par \n"
          ]
        }
      ]
    },
    {
      "cell_type": "markdown",
      "source": [
        "## Ejercicio 5"
      ],
      "metadata": {
        "id": "ywsGjYCdhbu_"
      }
    },
    {
      "cell_type": "code",
      "source": [
        "a = float(input(\"ingrese un numero: \"))\n",
        "b = float(input(\"ingrese un numero: \"))\n",
        "c = float(input(\"ingrese un numero: \"))\n",
        "d = float(input(\"ingrese un numero: \"))\n",
        "e = float(input(\"ingrese un numero: \"))\n",
        "\n",
        "if a > b and a > c and a > d and a > e:\n",
        "  print(\"el numero mayor es:\", a)\n",
        "if b > a and b > c and b > d and b > e:\n",
        "  print(\"el numero mayor es:\", b)\n",
        "if c > a and c > b and c > d and c > e:\n",
        "  print(\"el numero mayor es:\", c)\n",
        "if d > a and d > b and d > c and d > e:\n",
        "  print(\"el numero mayor es:\", d)\n",
        "if e > a and e > b and e > c and e > d:\n",
        "  print(\"el numero mayor es:\", e)"
      ],
      "metadata": {
        "colab": {
          "base_uri": "https://localhost:8080/"
        },
        "id": "Fy1iZYa7j3wg",
        "outputId": "77522bb7-c6f3-4ec0-baa5-88e1867fb096"
      },
      "execution_count": 13,
      "outputs": [
        {
          "output_type": "stream",
          "name": "stdout",
          "text": [
            "ingrese un numero: 8\n",
            "ingrese un numero: 4\n",
            "ingrese un numero: 1\n",
            "ingrese un numero: 5\n",
            "ingrese un numero: 7\n",
            "el numero mayor es: 8.0\n"
          ]
        }
      ]
    },
    {
      "cell_type": "markdown",
      "source": [
        "## Ejercicio 6"
      ],
      "metadata": {
        "id": "T9bcqmahhfpg"
      }
    },
    {
      "cell_type": "code",
      "source": [
        "E = float(input(\"ingrese su edad: \"))\n",
        "\n",
        "if E >= 0 and E <= 12:\n",
        " print(\"niño\")\n",
        "if E >= 13 and E <= 19:\n",
        " print(\"adolescente \")\n",
        "if E >= 20 and E <= 64:\n",
        " print(\"adulto \")\n",
        "if E >= 65:\n",
        " print(\"adulto mayor \")"
      ],
      "metadata": {
        "colab": {
          "base_uri": "https://localhost:8080/"
        },
        "id": "uWQxWV8EhiuW",
        "outputId": "d81cde52-7b76-44da-86d4-9fdd9a13f271"
      },
      "execution_count": 8,
      "outputs": [
        {
          "output_type": "stream",
          "name": "stdout",
          "text": [
            "ingrese su edad: 24\n",
            "adulto \n"
          ]
        }
      ]
    }
  ]
}